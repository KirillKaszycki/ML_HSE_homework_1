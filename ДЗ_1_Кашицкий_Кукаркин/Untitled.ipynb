{
 "cells": [
  {
   "cell_type": "code",
   "execution_count": 1,
   "id": "2a5a3a98",
   "metadata": {},
   "outputs": [],
   "source": [
    "# pip install --upgrade scikit-learn"
   ]
  },
  {
   "cell_type": "code",
   "execution_count": 2,
   "id": "7a41e7a2",
   "metadata": {},
   "outputs": [
    {
     "name": "stderr",
     "output_type": "stream",
     "text": [
      "2023-11-23 12:54:26.721625: I tensorflow/core/platform/cpu_feature_guard.cc:193] This TensorFlow binary is optimized with oneAPI Deep Neural Network Library (oneDNN) to use the following CPU instructions in performance-critical operations:  SSE4.1 SSE4.2\n",
      "To enable them in other operations, rebuild TensorFlow with the appropriate compiler flags.\n"
     ]
    }
   ],
   "source": [
    "import pandas as pd\n",
    "import numpy as np\n",
    "\n",
    "import matplotlib.pyplot as plt\n",
    "import seaborn as sns\n",
    "\n",
    "import warnings\n",
    "\n",
    "from sklearn.preprocessing import LabelEncoder\n",
    "from sklearn.utils.class_weight import compute_class_weight\n",
    "\n",
    "from tensorflow import keras\n",
    "from keras.models import Sequential\n",
    "from keras.layers import Dense\n",
    "from keras.utils import to_categorical"
   ]
  },
  {
   "cell_type": "code",
   "execution_count": 3,
   "id": "e2e19767",
   "metadata": {},
   "outputs": [],
   "source": [
    "sns.set_style('whitegrid')\n",
    "%matplotlib inline\n",
    "warnings.filterwarnings('ignore')"
   ]
  },
  {
   "cell_type": "markdown",
   "id": "96af6969",
   "metadata": {},
   "source": [
    "# 1 Data Preprocessing"
   ]
  },
  {
   "cell_type": "code",
   "execution_count": 4,
   "id": "e7bc9a40",
   "metadata": {},
   "outputs": [
    {
     "data": {
      "text/html": [
       "<div>\n",
       "<style scoped>\n",
       "    .dataframe tbody tr th:only-of-type {\n",
       "        vertical-align: middle;\n",
       "    }\n",
       "\n",
       "    .dataframe tbody tr th {\n",
       "        vertical-align: top;\n",
       "    }\n",
       "\n",
       "    .dataframe thead th {\n",
       "        text-align: right;\n",
       "    }\n",
       "</style>\n",
       "<table border=\"1\" class=\"dataframe\">\n",
       "  <thead>\n",
       "    <tr style=\"text-align: right;\">\n",
       "      <th></th>\n",
       "      <th>Unnamed: 0</th>\n",
       "      <th>orderID</th>\n",
       "      <th>orderDate</th>\n",
       "      <th>articleID</th>\n",
       "      <th>colorCode</th>\n",
       "      <th>sizeCode</th>\n",
       "      <th>productGroup</th>\n",
       "      <th>quantity</th>\n",
       "      <th>price</th>\n",
       "      <th>rrp</th>\n",
       "      <th>voucherID</th>\n",
       "      <th>voucherAmount</th>\n",
       "      <th>customerID</th>\n",
       "      <th>deviceID</th>\n",
       "      <th>paymentMethod</th>\n",
       "      <th>returnQuantity</th>\n",
       "    </tr>\n",
       "  </thead>\n",
       "  <tbody>\n",
       "    <tr>\n",
       "      <th>0</th>\n",
       "      <td>465033</td>\n",
       "      <td>a1150802</td>\n",
       "      <td>2014-05-23</td>\n",
       "      <td>i1000742</td>\n",
       "      <td>1002</td>\n",
       "      <td>38</td>\n",
       "      <td>3.0</td>\n",
       "      <td>0</td>\n",
       "      <td>0.00</td>\n",
       "      <td>29.99</td>\n",
       "      <td>0</td>\n",
       "      <td>0.0</td>\n",
       "      <td>c1143392</td>\n",
       "      <td>2</td>\n",
       "      <td>BPRG</td>\n",
       "      <td>0</td>\n",
       "    </tr>\n",
       "    <tr>\n",
       "      <th>1</th>\n",
       "      <td>465034</td>\n",
       "      <td>a1150802</td>\n",
       "      <td>2014-05-23</td>\n",
       "      <td>i1000885</td>\n",
       "      <td>3493</td>\n",
       "      <td>38</td>\n",
       "      <td>3.0</td>\n",
       "      <td>1</td>\n",
       "      <td>22.99</td>\n",
       "      <td>22.99</td>\n",
       "      <td>0</td>\n",
       "      <td>0.0</td>\n",
       "      <td>c1143392</td>\n",
       "      <td>2</td>\n",
       "      <td>BPRG</td>\n",
       "      <td>1</td>\n",
       "    </tr>\n",
       "    <tr>\n",
       "      <th>2</th>\n",
       "      <td>465035</td>\n",
       "      <td>a1150802</td>\n",
       "      <td>2014-05-23</td>\n",
       "      <td>i1001839</td>\n",
       "      <td>1003</td>\n",
       "      <td>38</td>\n",
       "      <td>8.0</td>\n",
       "      <td>1</td>\n",
       "      <td>29.99</td>\n",
       "      <td>29.99</td>\n",
       "      <td>0</td>\n",
       "      <td>0.0</td>\n",
       "      <td>c1143392</td>\n",
       "      <td>2</td>\n",
       "      <td>BPRG</td>\n",
       "      <td>1</td>\n",
       "    </tr>\n",
       "    <tr>\n",
       "      <th>3</th>\n",
       "      <td>465036</td>\n",
       "      <td>a1150802</td>\n",
       "      <td>2014-05-23</td>\n",
       "      <td>i1002024</td>\n",
       "      <td>1953</td>\n",
       "      <td>38</td>\n",
       "      <td>8.0</td>\n",
       "      <td>1</td>\n",
       "      <td>35.00</td>\n",
       "      <td>49.99</td>\n",
       "      <td>0</td>\n",
       "      <td>0.0</td>\n",
       "      <td>c1143392</td>\n",
       "      <td>2</td>\n",
       "      <td>BPRG</td>\n",
       "      <td>1</td>\n",
       "    </tr>\n",
       "    <tr>\n",
       "      <th>4</th>\n",
       "      <td>465037</td>\n",
       "      <td>a1150802</td>\n",
       "      <td>2014-05-23</td>\n",
       "      <td>i1002030</td>\n",
       "      <td>1986</td>\n",
       "      <td>38</td>\n",
       "      <td>8.0</td>\n",
       "      <td>1</td>\n",
       "      <td>39.99</td>\n",
       "      <td>39.99</td>\n",
       "      <td>0</td>\n",
       "      <td>0.0</td>\n",
       "      <td>c1143392</td>\n",
       "      <td>2</td>\n",
       "      <td>BPRG</td>\n",
       "      <td>0</td>\n",
       "    </tr>\n",
       "  </tbody>\n",
       "</table>\n",
       "</div>"
      ],
      "text/plain": [
       "   Unnamed: 0   orderID   orderDate articleID  colorCode sizeCode  \\\n",
       "0      465033  a1150802  2014-05-23  i1000742       1002       38   \n",
       "1      465034  a1150802  2014-05-23  i1000885       3493       38   \n",
       "2      465035  a1150802  2014-05-23  i1001839       1003       38   \n",
       "3      465036  a1150802  2014-05-23  i1002024       1953       38   \n",
       "4      465037  a1150802  2014-05-23  i1002030       1986       38   \n",
       "\n",
       "   productGroup  quantity  price    rrp voucherID  voucherAmount customerID  \\\n",
       "0           3.0         0   0.00  29.99         0            0.0   c1143392   \n",
       "1           3.0         1  22.99  22.99         0            0.0   c1143392   \n",
       "2           8.0         1  29.99  29.99         0            0.0   c1143392   \n",
       "3           8.0         1  35.00  49.99         0            0.0   c1143392   \n",
       "4           8.0         1  39.99  39.99         0            0.0   c1143392   \n",
       "\n",
       "   deviceID paymentMethod  returnQuantity  \n",
       "0         2          BPRG               0  \n",
       "1         2          BPRG               1  \n",
       "2         2          BPRG               1  \n",
       "3         2          BPRG               1  \n",
       "4         2          BPRG               0  "
      ]
     },
     "execution_count": 4,
     "metadata": {},
     "output_type": "execute_result"
    }
   ],
   "source": [
    "df_train = pd.read_csv('train.csv', encoding='utf-8')\n",
    "df_train.head()"
   ]
  },
  {
   "cell_type": "code",
   "execution_count": 5,
   "id": "070f3c79",
   "metadata": {},
   "outputs": [
    {
     "data": {
      "text/plain": [
       "(1860133, 16)"
      ]
     },
     "execution_count": 5,
     "metadata": {},
     "output_type": "execute_result"
    }
   ],
   "source": [
    "df_train.shape"
   ]
  },
  {
   "cell_type": "code",
   "execution_count": 6,
   "id": "48438f5c",
   "metadata": {},
   "outputs": [
    {
     "data": {
      "text/html": [
       "<div>\n",
       "<style scoped>\n",
       "    .dataframe tbody tr th:only-of-type {\n",
       "        vertical-align: middle;\n",
       "    }\n",
       "\n",
       "    .dataframe tbody tr th {\n",
       "        vertical-align: top;\n",
       "    }\n",
       "\n",
       "    .dataframe thead th {\n",
       "        text-align: right;\n",
       "    }\n",
       "</style>\n",
       "<table border=\"1\" class=\"dataframe\">\n",
       "  <thead>\n",
       "    <tr style=\"text-align: right;\">\n",
       "      <th></th>\n",
       "      <th>Unnamed: 0</th>\n",
       "      <th>orderID</th>\n",
       "      <th>orderDate</th>\n",
       "      <th>articleID</th>\n",
       "      <th>colorCode</th>\n",
       "      <th>sizeCode</th>\n",
       "      <th>productGroup</th>\n",
       "      <th>quantity</th>\n",
       "      <th>price</th>\n",
       "      <th>rrp</th>\n",
       "      <th>voucherID</th>\n",
       "      <th>voucherAmount</th>\n",
       "      <th>customerID</th>\n",
       "      <th>deviceID</th>\n",
       "      <th>paymentMethod</th>\n",
       "    </tr>\n",
       "  </thead>\n",
       "  <tbody>\n",
       "    <tr>\n",
       "      <th>0</th>\n",
       "      <td>1</td>\n",
       "      <td>a1000001</td>\n",
       "      <td>2014-01-01</td>\n",
       "      <td>i1000382</td>\n",
       "      <td>1972</td>\n",
       "      <td>44</td>\n",
       "      <td>3.0</td>\n",
       "      <td>1</td>\n",
       "      <td>10.00</td>\n",
       "      <td>29.99</td>\n",
       "      <td>0</td>\n",
       "      <td>0.0</td>\n",
       "      <td>c1010575</td>\n",
       "      <td>2</td>\n",
       "      <td>BPRG</td>\n",
       "    </tr>\n",
       "    <tr>\n",
       "      <th>1</th>\n",
       "      <td>2</td>\n",
       "      <td>a1000001</td>\n",
       "      <td>2014-01-01</td>\n",
       "      <td>i1000550</td>\n",
       "      <td>3854</td>\n",
       "      <td>44</td>\n",
       "      <td>3.0</td>\n",
       "      <td>1</td>\n",
       "      <td>20.00</td>\n",
       "      <td>39.99</td>\n",
       "      <td>0</td>\n",
       "      <td>0.0</td>\n",
       "      <td>c1010575</td>\n",
       "      <td>2</td>\n",
       "      <td>BPRG</td>\n",
       "    </tr>\n",
       "    <tr>\n",
       "      <th>2</th>\n",
       "      <td>3</td>\n",
       "      <td>a1000002</td>\n",
       "      <td>2014-01-01</td>\n",
       "      <td>i1001991</td>\n",
       "      <td>2974</td>\n",
       "      <td>38</td>\n",
       "      <td>8.0</td>\n",
       "      <td>1</td>\n",
       "      <td>35.00</td>\n",
       "      <td>49.99</td>\n",
       "      <td>0</td>\n",
       "      <td>0.0</td>\n",
       "      <td>c1045905</td>\n",
       "      <td>4</td>\n",
       "      <td>BPRG</td>\n",
       "    </tr>\n",
       "    <tr>\n",
       "      <th>3</th>\n",
       "      <td>4</td>\n",
       "      <td>a1000002</td>\n",
       "      <td>2014-01-01</td>\n",
       "      <td>i1001999</td>\n",
       "      <td>1992</td>\n",
       "      <td>38</td>\n",
       "      <td>8.0</td>\n",
       "      <td>1</td>\n",
       "      <td>49.99</td>\n",
       "      <td>49.99</td>\n",
       "      <td>0</td>\n",
       "      <td>0.0</td>\n",
       "      <td>c1045905</td>\n",
       "      <td>4</td>\n",
       "      <td>BPRG</td>\n",
       "    </tr>\n",
       "    <tr>\n",
       "      <th>4</th>\n",
       "      <td>5</td>\n",
       "      <td>a1000003</td>\n",
       "      <td>2014-01-01</td>\n",
       "      <td>i1001942</td>\n",
       "      <td>1968</td>\n",
       "      <td>42</td>\n",
       "      <td>8.0</td>\n",
       "      <td>1</td>\n",
       "      <td>10.00</td>\n",
       "      <td>35.99</td>\n",
       "      <td>0</td>\n",
       "      <td>0.0</td>\n",
       "      <td>c1089295</td>\n",
       "      <td>2</td>\n",
       "      <td>PAYPALVC</td>\n",
       "    </tr>\n",
       "  </tbody>\n",
       "</table>\n",
       "</div>"
      ],
      "text/plain": [
       "   Unnamed: 0   orderID   orderDate articleID  colorCode sizeCode  \\\n",
       "0           1  a1000001  2014-01-01  i1000382       1972       44   \n",
       "1           2  a1000001  2014-01-01  i1000550       3854       44   \n",
       "2           3  a1000002  2014-01-01  i1001991       2974       38   \n",
       "3           4  a1000002  2014-01-01  i1001999       1992       38   \n",
       "4           5  a1000003  2014-01-01  i1001942       1968       42   \n",
       "\n",
       "   productGroup  quantity  price    rrp voucherID  voucherAmount customerID  \\\n",
       "0           3.0         1  10.00  29.99         0            0.0   c1010575   \n",
       "1           3.0         1  20.00  39.99         0            0.0   c1010575   \n",
       "2           8.0         1  35.00  49.99         0            0.0   c1045905   \n",
       "3           8.0         1  49.99  49.99         0            0.0   c1045905   \n",
       "4           8.0         1  10.00  35.99         0            0.0   c1089295   \n",
       "\n",
       "   deviceID paymentMethod  \n",
       "0         2          BPRG  \n",
       "1         2          BPRG  \n",
       "2         4          BPRG  \n",
       "3         4          BPRG  \n",
       "4         2      PAYPALVC  "
      ]
     },
     "execution_count": 6,
     "metadata": {},
     "output_type": "execute_result"
    }
   ],
   "source": [
    "df_test = pd.read_csv('test.csv', encoding='utf-8')\n",
    "df_test.head()"
   ]
  },
  {
   "cell_type": "code",
   "execution_count": 7,
   "id": "40366bd6",
   "metadata": {},
   "outputs": [
    {
     "data": {
      "text/plain": [
       "(465033, 15)"
      ]
     },
     "execution_count": 7,
     "metadata": {},
     "output_type": "execute_result"
    }
   ],
   "source": [
    "df_test.shape"
   ]
  },
  {
   "cell_type": "code",
   "execution_count": 8,
   "id": "05915cbc",
   "metadata": {},
   "outputs": [
    {
     "name": "stdout",
     "output_type": "stream",
     "text": [
      "Unnamed: 0          0\n",
      "orderID             0\n",
      "orderDate           0\n",
      "articleID           0\n",
      "colorCode           0\n",
      "sizeCode            0\n",
      "productGroup      291\n",
      "quantity            0\n",
      "price               0\n",
      "rrp               291\n",
      "voucherID           4\n",
      "voucherAmount       0\n",
      "customerID          0\n",
      "deviceID            0\n",
      "paymentMethod       0\n",
      "returnQuantity      0\n",
      "dtype: int64\n",
      "====================\n",
      "Unnamed: 0        0\n",
      "orderID           0\n",
      "orderDate         0\n",
      "articleID         0\n",
      "colorCode         0\n",
      "sizeCode          0\n",
      "productGroup     60\n",
      "quantity          0\n",
      "price             0\n",
      "rrp              60\n",
      "voucherID         2\n",
      "voucherAmount     0\n",
      "customerID        0\n",
      "deviceID          0\n",
      "paymentMethod     0\n",
      "dtype: int64\n"
     ]
    }
   ],
   "source": [
    "print(df_train.isna().sum())\n",
    "print('==' * 10)\n",
    "print(df_test.isna().sum())"
   ]
  },
  {
   "cell_type": "code",
   "execution_count": 9,
   "id": "ee313ff0",
   "metadata": {},
   "outputs": [],
   "source": [
    "df_train = df_train.loc[df_train['voucherID'].notna()]\n",
    "df_test = df_test.loc[df_test['voucherID'].notna()]"
   ]
  },
  {
   "cell_type": "code",
   "execution_count": 10,
   "id": "81ff4744",
   "metadata": {},
   "outputs": [
    {
     "data": {
      "text/plain": [
       "array([ 3.,  8.,  9.,  2., 13.,  1.,  4., 14., 45.,  5.,  6.,  7., 17.,\n",
       "       50., 43., 15., nan, 90., 26.])"
      ]
     },
     "execution_count": 10,
     "metadata": {},
     "output_type": "execute_result"
    }
   ],
   "source": [
    "df_train['productGroup'].unique() # Заполним нулями, как неизвестной категорией"
   ]
  },
  {
   "cell_type": "code",
   "execution_count": 11,
   "id": "cbdd6796",
   "metadata": {},
   "outputs": [],
   "source": [
    "df_train['productGroup'] = df_train['productGroup'].fillna(0)\n",
    "df_test['productGroup'] = df_test['productGroup'].fillna(0)"
   ]
  },
  {
   "cell_type": "code",
   "execution_count": 12,
   "id": "70af08dd",
   "metadata": {},
   "outputs": [],
   "source": [
    "df_train['rrp'] = df_train['rrp'].fillna(df_train['rrp'].median())\n",
    "df_test['rrp'] = df_test['rrp'].fillna(df_test['rrp'].median())"
   ]
  },
  {
   "cell_type": "code",
   "execution_count": 13,
   "id": "8df562d1",
   "metadata": {},
   "outputs": [
    {
     "name": "stdout",
     "output_type": "stream",
     "text": [
      "Unnamed: 0        0\n",
      "orderID           0\n",
      "orderDate         0\n",
      "articleID         0\n",
      "colorCode         0\n",
      "sizeCode          0\n",
      "productGroup      0\n",
      "quantity          0\n",
      "price             0\n",
      "rrp               0\n",
      "voucherID         0\n",
      "voucherAmount     0\n",
      "customerID        0\n",
      "deviceID          0\n",
      "paymentMethod     0\n",
      "returnQuantity    0\n",
      "dtype: int64\n",
      "====================\n",
      "Unnamed: 0       0\n",
      "orderID          0\n",
      "orderDate        0\n",
      "articleID        0\n",
      "colorCode        0\n",
      "sizeCode         0\n",
      "productGroup     0\n",
      "quantity         0\n",
      "price            0\n",
      "rrp              0\n",
      "voucherID        0\n",
      "voucherAmount    0\n",
      "customerID       0\n",
      "deviceID         0\n",
      "paymentMethod    0\n",
      "dtype: int64\n"
     ]
    }
   ],
   "source": [
    "print(df_train.isna().sum())\n",
    "print('==' * 10)\n",
    "print(df_test.isna().sum())"
   ]
  },
  {
   "cell_type": "code",
   "execution_count": 14,
   "id": "794edbf4",
   "metadata": {},
   "outputs": [],
   "source": [
    "df_train = df_train.drop('orderDate', axis=1)\n",
    "df_test = df_test.drop('orderDate', axis=1)"
   ]
  },
  {
   "cell_type": "code",
   "execution_count": 15,
   "id": "390b0419",
   "metadata": {},
   "outputs": [
    {
     "name": "stdout",
     "output_type": "stream",
     "text": [
      "<class 'pandas.core.frame.DataFrame'>\n",
      "Int64Index: 1860129 entries, 0 to 1860132\n",
      "Data columns (total 15 columns):\n",
      " #   Column          Dtype  \n",
      "---  ------          -----  \n",
      " 0   Unnamed: 0      int64  \n",
      " 1   orderID         object \n",
      " 2   articleID       object \n",
      " 3   colorCode       int64  \n",
      " 4   sizeCode        object \n",
      " 5   productGroup    float64\n",
      " 6   quantity        int64  \n",
      " 7   price           float64\n",
      " 8   rrp             float64\n",
      " 9   voucherID       object \n",
      " 10  voucherAmount   float64\n",
      " 11  customerID      object \n",
      " 12  deviceID        int64  \n",
      " 13  paymentMethod   object \n",
      " 14  returnQuantity  int64  \n",
      "dtypes: float64(4), int64(5), object(6)\n",
      "memory usage: 227.1+ MB\n"
     ]
    }
   ],
   "source": [
    "df_train.info()"
   ]
  },
  {
   "cell_type": "code",
   "execution_count": 16,
   "id": "1b54b2c5",
   "metadata": {},
   "outputs": [
    {
     "name": "stdout",
     "output_type": "stream",
     "text": [
      "<class 'pandas.core.frame.DataFrame'>\n",
      "Int64Index: 465031 entries, 0 to 465032\n",
      "Data columns (total 14 columns):\n",
      " #   Column         Non-Null Count   Dtype  \n",
      "---  ------         --------------   -----  \n",
      " 0   Unnamed: 0     465031 non-null  int64  \n",
      " 1   orderID        465031 non-null  object \n",
      " 2   articleID      465031 non-null  object \n",
      " 3   colorCode      465031 non-null  int64  \n",
      " 4   sizeCode       465031 non-null  object \n",
      " 5   productGroup   465031 non-null  float64\n",
      " 6   quantity       465031 non-null  int64  \n",
      " 7   price          465031 non-null  float64\n",
      " 8   rrp            465031 non-null  float64\n",
      " 9   voucherID      465031 non-null  object \n",
      " 10  voucherAmount  465031 non-null  float64\n",
      " 11  customerID     465031 non-null  object \n",
      " 12  deviceID       465031 non-null  int64  \n",
      " 13  paymentMethod  465031 non-null  object \n",
      "dtypes: float64(4), int64(4), object(6)\n",
      "memory usage: 53.2+ MB\n"
     ]
    }
   ],
   "source": [
    "df_test.info()"
   ]
  },
  {
   "cell_type": "code",
   "execution_count": 17,
   "id": "bfe0d8b7",
   "metadata": {},
   "outputs": [
    {
     "data": {
      "text/plain": [
       "2    1309101\n",
       "3     313391\n",
       "4     128508\n",
       "5     109090\n",
       "1         39\n",
       "Name: deviceID, dtype: int64"
      ]
     },
     "execution_count": 17,
     "metadata": {},
     "output_type": "execute_result"
    }
   ],
   "source": [
    "df_train.deviceID.value_counts()"
   ]
  },
  {
   "cell_type": "markdown",
   "id": "728fe11a",
   "metadata": {},
   "source": [
    "ID, как правило, столбцы имеют слишком много уникальных значений и не несут информационой значимости. Однако мы оставим VoucherID, DeviceID как 2 категориальных признака – там не так много уникальных значений"
   ]
  },
  {
   "cell_type": "code",
   "execution_count": 18,
   "id": "a1d7b68c",
   "metadata": {},
   "outputs": [
    {
     "data": {
      "text/plain": [
       "3229"
      ]
     },
     "execution_count": 18,
     "metadata": {},
     "output_type": "execute_result"
    }
   ],
   "source": [
    "df_train['articleID'].nunique()"
   ]
  },
  {
   "cell_type": "code",
   "execution_count": 19,
   "id": "e533583f",
   "metadata": {},
   "outputs": [
    {
     "data": {
      "text/plain": [
       "589157"
      ]
     },
     "execution_count": 19,
     "metadata": {},
     "output_type": "execute_result"
    }
   ],
   "source": [
    "df_train['orderID'].nunique()"
   ]
  },
  {
   "cell_type": "code",
   "execution_count": 20,
   "id": "16d3ff34",
   "metadata": {},
   "outputs": [
    {
     "data": {
      "text/plain": [
       "262691"
      ]
     },
     "execution_count": 20,
     "metadata": {},
     "output_type": "execute_result"
    }
   ],
   "source": [
    "df_train['customerID'].nunique()"
   ]
  },
  {
   "cell_type": "code",
   "execution_count": 21,
   "id": "7ee5e246",
   "metadata": {},
   "outputs": [],
   "source": [
    "# df_train = df_train.drop(['orderID', 'customerID'], axis=1)\n",
    "# df_test = df_test.drop(['orderID', 'customerID'], axis=1)"
   ]
  },
  {
   "cell_type": "markdown",
   "id": "80b5afdc",
   "metadata": {},
   "source": [
    "# 2 EDA"
   ]
  },
  {
   "cell_type": "code",
   "execution_count": 22,
   "id": "38a6ca20",
   "metadata": {},
   "outputs": [],
   "source": [
    "def numeric_visual(df, field):\n",
    "    plt.figure(figsize=(10, 5))\n",
    "    sns.histplot(df[field], kde=True)\n",
    "    plt.xlabel('Признак')\n",
    "    plt.ylabel('Величина')\n",
    "    plt.title(f'Распределение признака {field}')\n",
    "    plt.show()\n",
    "    \n",
    "    plt.figure(figsize=(10, 5))\n",
    "    sns.boxplot(df[field])\n",
    "    plt.xlabel('Признак')\n",
    "    plt.ylabel('Величина')\n",
    "    plt.title(f'Распределение признака {field}')\n",
    "    plt.show()"
   ]
  },
  {
   "cell_type": "code",
   "execution_count": 23,
   "id": "9eda7b62",
   "metadata": {},
   "outputs": [
    {
     "data": {
      "image/png": "[encoded data removed]",
      "text/plain": [
       "<Figure size 1000x500 with 1 Axes>"
      ]
     },
     "metadata": {},
     "output_type": "display_data"
    },
    {
     "data": {
      "image/png": "[encoded data removed]",
      "text/plain": [
       "<Figure size 1000x500 with 1 Axes>"
      ]
     },
     "metadata": {},
     "output_type": "display_data"
    }
   ],
   "source": [
    "numeric_visual(df_train, 'price')"
   ]
  },
  {
   "cell_type": "code",
   "execution_count": 24,
   "id": "9bb1ad70",
   "metadata": {},
   "outputs": [
    {
     "data": {
      "image/png": "[encoded data removed]",
      "text/plain": [
       "<Figure size 1000x500 with 1 Axes>"
      ]
     },
     "metadata": {},
     "output_type": "display_data"
    },
    {
     "data": {
      "image/png": "[encoded data removed]",
      "text/plain": [
       "<Figure size 1000x500 with 1 Axes>"
      ]
     },
     "metadata": {},
     "output_type": "display_data"
    }
   ],
   "source": [
    "numeric_visual(df_test, 'price')"
   ]
  },
  {
   "cell_type": "markdown",
   "id": "1a2ccb62",
   "metadata": {},
   "source": [
    "В данных цены выше 150 у.е. являются выбросами, их удаление не окажет негативного влияния на качество данных\n"
   ]
  },
  {
   "cell_type": "code",
   "execution_count": 25,
   "id": "d9e8ea6a",
   "metadata": {},
   "outputs": [],
   "source": [
    "df_train = df_train.loc[df_train['price'] < 100]\n",
    "df_test = df_test.loc[df_test['price'] < 100]"
   ]
  },
  {
   "cell_type": "code",
   "execution_count": 26,
   "id": "c463029a",
   "metadata": {},
   "outputs": [
    {
     "data": {
      "text/plain": [
       "(1842110, 15)"
      ]
     },
     "execution_count": 26,
     "metadata": {},
     "output_type": "execute_result"
    }
   ],
   "source": [
    "df_train.shape"
   ]
  },
  {
   "cell_type": "code",
   "execution_count": 27,
   "id": "2baa8d9d",
   "metadata": {},
   "outputs": [
    {
     "name": "stdout",
     "output_type": "stream",
     "text": [
      "Сохранено 99.03109078759422 % данных\n"
     ]
    }
   ],
   "source": [
    "print(f'Сохранено {(100 / 1860133) * 1842110} % данных')"
   ]
  },
  {
   "cell_type": "code",
   "execution_count": 28,
   "id": "b851daba",
   "metadata": {},
   "outputs": [
    {
     "data": {
      "image/png": "[encoded data removed]",
      "text/plain": [
       "<Figure size 1000x500 with 1 Axes>"
      ]
     },
     "metadata": {},
     "output_type": "display_data"
    }
   ],
   "source": [
    "# Тут функция подтормаживает, поэтому сделаю графики процедурно\n",
    "plt.figure(figsize=(10, 5))\n",
    "sns.histplot(df_train['rrp'], kde=True)\n",
    "plt.xlabel('Признак')\n",
    "plt.ylabel('Величина')\n",
    "plt.title(f'Распределение признака rrp')\n",
    "plt.show()"
   ]
  },
  {
   "cell_type": "code",
   "execution_count": 29,
   "id": "ce5e7125",
   "metadata": {},
   "outputs": [],
   "source": [
    "df_train = df_train.loc[df_train['rrp'] < 100]\n",
    "df_test = df_test.loc[df_test['rrp'] < 100]"
   ]
  },
  {
   "cell_type": "code",
   "execution_count": 30,
   "id": "384c69b5",
   "metadata": {},
   "outputs": [
    {
     "data": {
      "image/png": "[encoded data removed]",
      "text/plain": [
       "<Figure size 1000x500 with 1 Axes>"
      ]
     },
     "metadata": {},
     "output_type": "display_data"
    }
   ],
   "source": [
    "plt.figure(figsize=(10, 5))\n",
    "sns.histplot(df_train['voucherAmount'], kde=True)\n",
    "plt.xlabel('Признак')\n",
    "plt.ylabel('Величина')\n",
    "plt.xlim(0, 50)\n",
    "plt.title(f'Распределение признака voucherAmount')\n",
    "plt.show()"
   ]
  },
  {
   "cell_type": "code",
   "execution_count": 31,
   "id": "5b5787b4",
   "metadata": {},
   "outputs": [
    {
     "data": {
      "text/plain": [
       "(1800337, 15)"
      ]
     },
     "execution_count": 31,
     "metadata": {},
     "output_type": "execute_result"
    }
   ],
   "source": [
    "df_train = df_train.loc[df_train['voucherAmount'] < 15]\n",
    "df_test = df_test.loc[df_test['voucherAmount'] < 15]\n",
    "df_train.shape"
   ]
  },
  {
   "cell_type": "code",
   "execution_count": 32,
   "id": "a667ec08",
   "metadata": {},
   "outputs": [
    {
     "name": "stdout",
     "output_type": "stream",
     "text": [
      "Сохранено 96.78539115213805 % данных\n"
     ]
    }
   ],
   "source": [
    "print(f'Сохранено {(100 / 1860133) * 1800337} % данных')"
   ]
  },
  {
   "cell_type": "code",
   "execution_count": 33,
   "id": "63049460",
   "metadata": {},
   "outputs": [
    {
     "data": {
      "text/plain": [
       "3917         1\n",
       "1955         1\n",
       "6745         1\n",
       "6743         1\n",
       "1926         2\n",
       "         ...  \n",
       "1014     41703\n",
       "1012     56720\n",
       "1000     58044\n",
       "1493     70252\n",
       "1001    185634\n",
       "Name: colorCode, Length: 486, dtype: int64"
      ]
     },
     "execution_count": 33,
     "metadata": {},
     "output_type": "execute_result"
    }
   ],
   "source": [
    "df_train.colorCode.value_counts(ascending=True)"
   ]
  },
  {
   "cell_type": "code",
   "execution_count": 34,
   "id": "519d86db",
   "metadata": {},
   "outputs": [
    {
     "data": {
      "text/plain": [
       "BPRG        1398385\n",
       "CBA          140307\n",
       "PAYPALVC     132893\n",
       "KKE           80883\n",
       "VORAUS        19880\n",
       "NN            13056\n",
       "BPLS          10908\n",
       "BPPL           4020\n",
       "RG                5\n",
       "Name: paymentMethod, dtype: int64"
      ]
     },
     "execution_count": 34,
     "metadata": {},
     "output_type": "execute_result"
    }
   ],
   "source": [
    "df_train.paymentMethod.value_counts()"
   ]
  },
  {
   "cell_type": "code",
   "execution_count": 35,
   "id": "98965865",
   "metadata": {},
   "outputs": [
    {
     "data": {
      "text/plain": [
       "(1800337, 15)"
      ]
     },
     "execution_count": 35,
     "metadata": {},
     "output_type": "execute_result"
    }
   ],
   "source": [
    "df_train.shape"
   ]
  },
  {
   "cell_type": "code",
   "execution_count": 36,
   "id": "69207648",
   "metadata": {},
   "outputs": [],
   "source": [
    "df_train = df_train.drop_duplicates().reset_index(drop=True)\n",
    "df_test = df_test.drop_duplicates().reset_index(drop=True)"
   ]
  },
  {
   "cell_type": "code",
   "execution_count": 37,
   "id": "fb27c4c6",
   "metadata": {},
   "outputs": [
    {
     "data": {
      "text/plain": [
       "(1800337, 15)"
      ]
     },
     "execution_count": 37,
     "metadata": {},
     "output_type": "execute_result"
    }
   ],
   "source": [
    "df_train.shape"
   ]
  },
  {
   "cell_type": "code",
   "execution_count": 38,
   "id": "d1e90804",
   "metadata": {},
   "outputs": [
    {
     "name": "stdout",
     "output_type": "stream",
     "text": [
      "<class 'pandas.core.frame.DataFrame'>\n",
      "RangeIndex: 1800337 entries, 0 to 1800336\n",
      "Data columns (total 15 columns):\n",
      " #   Column          Dtype  \n",
      "---  ------          -----  \n",
      " 0   Unnamed: 0      int64  \n",
      " 1   orderID         object \n",
      " 2   articleID       object \n",
      " 3   colorCode       int64  \n",
      " 4   sizeCode        object \n",
      " 5   productGroup    float64\n",
      " 6   quantity        int64  \n",
      " 7   price           float64\n",
      " 8   rrp             float64\n",
      " 9   voucherID       object \n",
      " 10  voucherAmount   float64\n",
      " 11  customerID      object \n",
      " 12  deviceID        int64  \n",
      " 13  paymentMethod   object \n",
      " 14  returnQuantity  int64  \n",
      "dtypes: float64(4), int64(5), object(6)\n",
      "memory usage: 206.0+ MB\n"
     ]
    }
   ],
   "source": [
    "df_train.info()"
   ]
  },
  {
   "cell_type": "markdown",
   "id": "3b69689e",
   "metadata": {},
   "source": [
    "**Вывод**\n",
    "\n",
    "- В ходе предобработки и исследовательского анализа данных были заполнены пропуски в данных, удалены нерелевантные поля: временные и уникальные значения ID\n",
    "- Были изучены распределения количественных признаков\n",
    "- Были обнаружены и удалены выбросы в количественных признаках\n",
    "- Сделана проверка на наличие дубликатов"
   ]
  },
  {
   "cell_type": "markdown",
   "id": "d2bea2e6",
   "metadata": {},
   "source": [
    "# 3 Data Encoding"
   ]
  },
  {
   "cell_type": "code",
   "execution_count": 39,
   "id": "bc5f66fa",
   "metadata": {},
   "outputs": [],
   "source": [
    "X_train = df_train.drop('returnQuantity', axis=1)\n",
    "y_train = df_train['returnQuantity']"
   ]
  },
  {
   "cell_type": "code",
   "execution_count": 40,
   "id": "70ef4c1a",
   "metadata": {},
   "outputs": [
    {
     "data": {
      "text/plain": [
       "Index(['Unnamed: 0', 'orderID', 'articleID', 'colorCode', 'sizeCode',\n",
       "       'productGroup', 'quantity', 'price', 'rrp', 'voucherID',\n",
       "       'voucherAmount', 'customerID', 'deviceID', 'paymentMethod'],\n",
       "      dtype='object')"
      ]
     },
     "execution_count": 40,
     "metadata": {},
     "output_type": "execute_result"
    }
   ],
   "source": [
    "X_train.columns"
   ]
  },
  {
   "cell_type": "code",
   "execution_count": 41,
   "id": "bcdd0ce2",
   "metadata": {},
   "outputs": [],
   "source": [
    "X_test = df_test"
   ]
  },
  {
   "cell_type": "code",
   "execution_count": 42,
   "id": "c15374ff",
   "metadata": {},
   "outputs": [],
   "source": [
    "encoder = LabelEncoder()\n",
    "\n",
    "X = pd.concat([X_train, X_test])\n",
    "\n",
    "if X_train['articleID'].dtype == 'object':\n",
    "    encoder.fit(X['articleID'])\n",
    "    X_train['articleID'] = encoder.transform(X_train['articleID'])\n",
    "    X_test['articleID'] = encoder.transform(X_test['articleID'])\n",
    "\n",
    "if X_train['orderID'].dtype == 'object':\n",
    "    encoder.fit(X['orderID'])\n",
    "    X_train['orderID'] = encoder.transform(X_train['orderID'])\n",
    "    X_test['orderID'] = encoder.transform(X_test['orderID'])\n",
    "\n",
    "if X_train['customerID'].dtype == 'object':\n",
    "    encoder.fit(X['customerID'])\n",
    "    X_train['customerID'] = encoder.transform(X_train['customerID'])\n",
    "    X_test['customerID'] = encoder.transform(X_test['customerID'])\n",
    "\n",
    "if X_train['sizeCode'].dtype == 'object':\n",
    "    encoder.fit(X['sizeCode'])\n",
    "    X_train['sizeCode'] = encoder.transform(X_train['sizeCode'])\n",
    "    X_test['sizeCode'] = encoder.transform(X_test['sizeCode'])\n",
    "\n",
    "if X_train['voucherID'].dtype == 'object':\n",
    "    encoder.fit(X['voucherID'])\n",
    "    X_train['voucherID'] = encoder.transform(X_train['voucherID'])\n",
    "    X_test['voucherID'] = encoder.transform(X_test['voucherID'])\n",
    "\n",
    "if X_train['paymentMethod'].dtype == 'object':\n",
    "    encoder.fit(X['paymentMethod'])\n",
    "    X_train['paymentMethod'] = encoder.transform(X_train['paymentMethod'])\n",
    "    X_test['paymentMethod'] = encoder.transform(X_test['paymentMethod'])"
   ]
  },
  {
   "cell_type": "code",
   "execution_count": 43,
   "id": "27a4fd3a",
   "metadata": {},
   "outputs": [
    {
     "data": {
      "text/html": [
       "<div>\n",
       "<style scoped>\n",
       "    .dataframe tbody tr th:only-of-type {\n",
       "        vertical-align: middle;\n",
       "    }\n",
       "\n",
       "    .dataframe tbody tr th {\n",
       "        vertical-align: top;\n",
       "    }\n",
       "\n",
       "    .dataframe thead th {\n",
       "        text-align: right;\n",
       "    }\n",
       "</style>\n",
       "<table border=\"1\" class=\"dataframe\">\n",
       "  <thead>\n",
       "    <tr style=\"text-align: right;\">\n",
       "      <th></th>\n",
       "      <th>Unnamed: 0</th>\n",
       "      <th>orderID</th>\n",
       "      <th>articleID</th>\n",
       "      <th>colorCode</th>\n",
       "      <th>sizeCode</th>\n",
       "      <th>productGroup</th>\n",
       "      <th>quantity</th>\n",
       "      <th>price</th>\n",
       "      <th>rrp</th>\n",
       "      <th>voucherID</th>\n",
       "      <th>voucherAmount</th>\n",
       "      <th>customerID</th>\n",
       "      <th>deviceID</th>\n",
       "      <th>paymentMethod</th>\n",
       "    </tr>\n",
       "  </thead>\n",
       "  <tbody>\n",
       "    <tr>\n",
       "      <th>0</th>\n",
       "      <td>465033</td>\n",
       "      <td>144030</td>\n",
       "      <td>702</td>\n",
       "      <td>1002</td>\n",
       "      <td>13</td>\n",
       "      <td>3.0</td>\n",
       "      <td>0</td>\n",
       "      <td>0.00</td>\n",
       "      <td>29.99</td>\n",
       "      <td>0</td>\n",
       "      <td>0.0</td>\n",
       "      <td>133391</td>\n",
       "      <td>2</td>\n",
       "      <td>2</td>\n",
       "    </tr>\n",
       "    <tr>\n",
       "      <th>1</th>\n",
       "      <td>465034</td>\n",
       "      <td>144030</td>\n",
       "      <td>845</td>\n",
       "      <td>3493</td>\n",
       "      <td>13</td>\n",
       "      <td>3.0</td>\n",
       "      <td>1</td>\n",
       "      <td>22.99</td>\n",
       "      <td>22.99</td>\n",
       "      <td>0</td>\n",
       "      <td>0.0</td>\n",
       "      <td>133391</td>\n",
       "      <td>2</td>\n",
       "      <td>2</td>\n",
       "    </tr>\n",
       "    <tr>\n",
       "      <th>2</th>\n",
       "      <td>465035</td>\n",
       "      <td>144030</td>\n",
       "      <td>1678</td>\n",
       "      <td>1003</td>\n",
       "      <td>13</td>\n",
       "      <td>8.0</td>\n",
       "      <td>1</td>\n",
       "      <td>29.99</td>\n",
       "      <td>29.99</td>\n",
       "      <td>0</td>\n",
       "      <td>0.0</td>\n",
       "      <td>133391</td>\n",
       "      <td>2</td>\n",
       "      <td>2</td>\n",
       "    </tr>\n",
       "    <tr>\n",
       "      <th>3</th>\n",
       "      <td>465036</td>\n",
       "      <td>144030</td>\n",
       "      <td>1861</td>\n",
       "      <td>1953</td>\n",
       "      <td>13</td>\n",
       "      <td>8.0</td>\n",
       "      <td>1</td>\n",
       "      <td>35.00</td>\n",
       "      <td>49.99</td>\n",
       "      <td>0</td>\n",
       "      <td>0.0</td>\n",
       "      <td>133391</td>\n",
       "      <td>2</td>\n",
       "      <td>2</td>\n",
       "    </tr>\n",
       "    <tr>\n",
       "      <th>4</th>\n",
       "      <td>465037</td>\n",
       "      <td>144030</td>\n",
       "      <td>1867</td>\n",
       "      <td>1986</td>\n",
       "      <td>13</td>\n",
       "      <td>8.0</td>\n",
       "      <td>1</td>\n",
       "      <td>39.99</td>\n",
       "      <td>39.99</td>\n",
       "      <td>0</td>\n",
       "      <td>0.0</td>\n",
       "      <td>133391</td>\n",
       "      <td>2</td>\n",
       "      <td>2</td>\n",
       "    </tr>\n",
       "  </tbody>\n",
       "</table>\n",
       "</div>"
      ],
      "text/plain": [
       "   Unnamed: 0  orderID  articleID  colorCode  sizeCode  productGroup  \\\n",
       "0      465033   144030        702       1002        13           3.0   \n",
       "1      465034   144030        845       3493        13           3.0   \n",
       "2      465035   144030       1678       1003        13           8.0   \n",
       "3      465036   144030       1861       1953        13           8.0   \n",
       "4      465037   144030       1867       1986        13           8.0   \n",
       "\n",
       "   quantity  price    rrp  voucherID  voucherAmount  customerID  deviceID  \\\n",
       "0         0   0.00  29.99          0            0.0      133391         2   \n",
       "1         1  22.99  22.99          0            0.0      133391         2   \n",
       "2         1  29.99  29.99          0            0.0      133391         2   \n",
       "3         1  35.00  49.99          0            0.0      133391         2   \n",
       "4         1  39.99  39.99          0            0.0      133391         2   \n",
       "\n",
       "   paymentMethod  \n",
       "0              2  \n",
       "1              2  \n",
       "2              2  \n",
       "3              2  \n",
       "4              2  "
      ]
     },
     "execution_count": 43,
     "metadata": {},
     "output_type": "execute_result"
    }
   ],
   "source": [
    "X_train.head()"
   ]
  },
  {
   "cell_type": "code",
   "execution_count": 44,
   "id": "2ac23012",
   "metadata": {},
   "outputs": [
    {
     "data": {
      "text/plain": [
       "(1800337, 14)"
      ]
     },
     "execution_count": 44,
     "metadata": {},
     "output_type": "execute_result"
    }
   ],
   "source": [
    "X_train.shape"
   ]
  },
  {
   "cell_type": "code",
   "execution_count": 45,
   "id": "21700411",
   "metadata": {},
   "outputs": [
    {
     "data": {
      "text/plain": [
       "(449252, 14)"
      ]
     },
     "execution_count": 45,
     "metadata": {},
     "output_type": "execute_result"
    }
   ],
   "source": [
    "X_test.shape"
   ]
  },
  {
   "cell_type": "code",
   "execution_count": 46,
   "id": "d570e928",
   "metadata": {},
   "outputs": [
    {
     "data": {
      "text/plain": [
       "(1800337,)"
      ]
     },
     "execution_count": 46,
     "metadata": {},
     "output_type": "execute_result"
    }
   ],
   "source": [
    "y_train.shape"
   ]
  },
  {
   "cell_type": "code",
   "execution_count": 47,
   "id": "c0c05f3e",
   "metadata": {},
   "outputs": [
    {
     "data": {
      "text/plain": [
       "1    919724\n",
       "0    878003\n",
       "2      2471\n",
       "3       104\n",
       "4        18\n",
       "5        17\n",
       "Name: returnQuantity, dtype: int64"
      ]
     },
     "execution_count": 47,
     "metadata": {},
     "output_type": "execute_result"
    }
   ],
   "source": [
    "y_train.value_counts()"
   ]
  },
  {
   "cell_type": "code",
   "execution_count": 48,
   "id": "5ca6f0c7",
   "metadata": {},
   "outputs": [],
   "source": [
    "class_weights = compute_class_weight('balanced', classes=np.unique(y_train), y=y_train)\n",
    "class_weight = dict(zip(np.unique(y_train), class_weights))"
   ]
  },
  {
   "cell_type": "code",
   "execution_count": 49,
   "id": "bdaba532",
   "metadata": {},
   "outputs": [
    {
     "data": {
      "text/plain": [
       "{0: 0.3417484526438596,\n",
       " 1: 0.32624588101068003,\n",
       " 2: 121.43106704438149,\n",
       " 3: 2885.1554487179487,\n",
       " 4: 16669.787037037036,\n",
       " 5: 17650.36274509804}"
      ]
     },
     "execution_count": 49,
     "metadata": {},
     "output_type": "execute_result"
    }
   ],
   "source": [
    "class_weight"
   ]
  },
  {
   "cell_type": "markdown",
   "id": "a22b0e3d",
   "metadata": {},
   "source": [
    "# 4 Model creation"
   ]
  },
  {
   "cell_type": "code",
   "execution_count": 50,
   "id": "6d443cc0",
   "metadata": {},
   "outputs": [
    {
     "name": "stderr",
     "output_type": "stream",
     "text": [
      "2023-11-23 12:55:15.120030: I tensorflow/core/platform/cpu_feature_guard.cc:193] This TensorFlow binary is optimized with oneAPI Deep Neural Network Library (oneDNN) to use the following CPU instructions in performance-critical operations:  SSE4.1 SSE4.2\n",
      "To enable them in other operations, rebuild TensorFlow with the appropriate compiler flags.\n"
     ]
    }
   ],
   "source": [
    "input_dim = 14\n",
    "\n",
    "model = Sequential()\n",
    "model.add(Dense(units=64, activation='relu', input_dim=input_dim))\n",
    "model.add(Dense(units=6, activation='softmax'))"
   ]
  },
  {
   "cell_type": "code",
   "execution_count": 51,
   "id": "1736cb97",
   "metadata": {},
   "outputs": [],
   "source": [
    "model.compile(\n",
    "    optimizer='adam', \n",
    "    loss='sparse_categorical_crossentropy', \n",
    "    metrics=keras.metrics.CategoricalAccuracy(\n",
    "        name=\"categorical_accuracy\", dtype=None\n",
    "    )\n",
    ")"
   ]
  },
  {
   "cell_type": "code",
   "execution_count": 52,
   "id": "28012e0f",
   "metadata": {},
   "outputs": [
    {
     "name": "stdout",
     "output_type": "stream",
     "text": [
      "Model: \"sequential\"\n",
      "_________________________________________________________________\n",
      " Layer (type)                Output Shape              Param #   \n",
      "=================================================================\n",
      " dense (Dense)               (None, 64)                960       \n",
      "                                                                 \n",
      " dense_1 (Dense)             (None, 6)                 390       \n",
      "                                                                 \n",
      "=================================================================\n",
      "Total params: 1,350\n",
      "Trainable params: 1,350\n",
      "Non-trainable params: 0\n",
      "_________________________________________________________________\n"
     ]
    }
   ],
   "source": [
    "model.summary()"
   ]
  },
  {
   "cell_type": "code",
   "execution_count": 53,
   "id": "42aa4b39",
   "metadata": {},
   "outputs": [],
   "source": [
    "#y_train_onehot = to_categorical(y_train, num_classes=6)"
   ]
  },
  {
   "cell_type": "code",
   "execution_count": 54,
   "id": "d03b680f",
   "metadata": {},
   "outputs": [
    {
     "name": "stdout",
     "output_type": "stream",
     "text": [
      "Epoch 1/3\n",
      "56261/56261 - 43s - loss: 80713.9844 - categorical_accuracy: 0.2191 - 43s/epoch - 770us/step\n",
      "Epoch 2/3\n",
      "56261/56261 - 42s - loss: 41782.9180 - categorical_accuracy: 0.2547 - 42s/epoch - 752us/step\n",
      "Epoch 3/3\n",
      "56261/56261 - 42s - loss: 4774.2520 - categorical_accuracy: 0.6069 - 42s/epoch - 752us/step\n"
     ]
    },
    {
     "data": {
      "text/plain": [
       "<keras.callbacks.History at 0x7f802abb6980>"
      ]
     },
     "execution_count": 54,
     "metadata": {},
     "output_type": "execute_result"
    }
   ],
   "source": [
    "X_train_tf = X_train.astype(float)\n",
    "y_train_tf = y_train.astype(float)\n",
    "\n",
    "model.fit(X_train_tf, \n",
    "          y_train_tf, \n",
    "          class_weight=class_weight, \n",
    "          epochs=3, \n",
    "          verbose=2)"
   ]
  },
  {
   "cell_type": "markdown",
   "id": "ffab438b",
   "metadata": {},
   "source": [
    "# 5 Model Save"
   ]
  },
  {
   "cell_type": "code",
   "execution_count": 60,
   "id": "4447d50b",
   "metadata": {},
   "outputs": [],
   "source": [
    "model.save('h1_classifier.h5')"
   ]
  },
  {
   "cell_type": "code",
   "execution_count": 61,
   "id": "aadb85de",
   "metadata": {},
   "outputs": [
    {
     "name": "stdout",
     "output_type": "stream",
     "text": [
      "14040/14040 [==============================] - 8s 534us/step\n"
     ]
    }
   ],
   "source": [
    "y_pred = model.predict(X_test)"
   ]
  },
  {
   "cell_type": "code",
   "execution_count": 62,
   "id": "2105f61f",
   "metadata": {},
   "outputs": [
    {
     "data": {
      "text/plain": [
       "(449252, 6)"
      ]
     },
     "execution_count": 62,
     "metadata": {},
     "output_type": "execute_result"
    }
   ],
   "source": [
    "y_pred.shape"
   ]
  },
  {
   "cell_type": "code",
   "execution_count": 63,
   "id": "1dc646a5",
   "metadata": {},
   "outputs": [
    {
     "data": {
      "text/html": [
       "<div>\n",
       "<style scoped>\n",
       "    .dataframe tbody tr th:only-of-type {\n",
       "        vertical-align: middle;\n",
       "    }\n",
       "\n",
       "    .dataframe tbody tr th {\n",
       "        vertical-align: top;\n",
       "    }\n",
       "\n",
       "    .dataframe thead th {\n",
       "        text-align: right;\n",
       "    }\n",
       "</style>\n",
       "<table border=\"1\" class=\"dataframe\">\n",
       "  <thead>\n",
       "    <tr style=\"text-align: right;\">\n",
       "      <th></th>\n",
       "      <th>0</th>\n",
       "      <th>1</th>\n",
       "      <th>2</th>\n",
       "      <th>3</th>\n",
       "      <th>4</th>\n",
       "      <th>5</th>\n",
       "    </tr>\n",
       "  </thead>\n",
       "  <tbody>\n",
       "    <tr>\n",
       "      <th>0</th>\n",
       "      <td>1.000000</td>\n",
       "      <td>0.000000</td>\n",
       "      <td>0.000000</td>\n",
       "      <td>0.000000</td>\n",
       "      <td>0.000000</td>\n",
       "      <td>0.000000</td>\n",
       "    </tr>\n",
       "    <tr>\n",
       "      <th>1</th>\n",
       "      <td>1.000000</td>\n",
       "      <td>0.000000</td>\n",
       "      <td>0.000000</td>\n",
       "      <td>0.000000</td>\n",
       "      <td>0.000000</td>\n",
       "      <td>0.000000</td>\n",
       "    </tr>\n",
       "    <tr>\n",
       "      <th>2</th>\n",
       "      <td>1.000000</td>\n",
       "      <td>0.000000</td>\n",
       "      <td>0.000000</td>\n",
       "      <td>0.000000</td>\n",
       "      <td>0.000000</td>\n",
       "      <td>0.000000</td>\n",
       "    </tr>\n",
       "    <tr>\n",
       "      <th>3</th>\n",
       "      <td>1.000000</td>\n",
       "      <td>0.000000</td>\n",
       "      <td>0.000000</td>\n",
       "      <td>0.000000</td>\n",
       "      <td>0.000000</td>\n",
       "      <td>0.000000</td>\n",
       "    </tr>\n",
       "    <tr>\n",
       "      <th>4</th>\n",
       "      <td>1.000000</td>\n",
       "      <td>0.000000</td>\n",
       "      <td>0.000000</td>\n",
       "      <td>0.000000</td>\n",
       "      <td>0.000000</td>\n",
       "      <td>0.000000</td>\n",
       "    </tr>\n",
       "    <tr>\n",
       "      <th>...</th>\n",
       "      <td>...</td>\n",
       "      <td>...</td>\n",
       "      <td>...</td>\n",
       "      <td>...</td>\n",
       "      <td>...</td>\n",
       "      <td>...</td>\n",
       "    </tr>\n",
       "    <tr>\n",
       "      <th>449247</th>\n",
       "      <td>0.211544</td>\n",
       "      <td>0.209282</td>\n",
       "      <td>0.199847</td>\n",
       "      <td>0.212292</td>\n",
       "      <td>0.079236</td>\n",
       "      <td>0.087799</td>\n",
       "    </tr>\n",
       "    <tr>\n",
       "      <th>449248</th>\n",
       "      <td>0.211544</td>\n",
       "      <td>0.209282</td>\n",
       "      <td>0.199847</td>\n",
       "      <td>0.212292</td>\n",
       "      <td>0.079236</td>\n",
       "      <td>0.087799</td>\n",
       "    </tr>\n",
       "    <tr>\n",
       "      <th>449249</th>\n",
       "      <td>0.211544</td>\n",
       "      <td>0.209282</td>\n",
       "      <td>0.199847</td>\n",
       "      <td>0.212292</td>\n",
       "      <td>0.079236</td>\n",
       "      <td>0.087799</td>\n",
       "    </tr>\n",
       "    <tr>\n",
       "      <th>449250</th>\n",
       "      <td>0.211544</td>\n",
       "      <td>0.209282</td>\n",
       "      <td>0.199847</td>\n",
       "      <td>0.212292</td>\n",
       "      <td>0.079236</td>\n",
       "      <td>0.087799</td>\n",
       "    </tr>\n",
       "    <tr>\n",
       "      <th>449251</th>\n",
       "      <td>0.211544</td>\n",
       "      <td>0.209282</td>\n",
       "      <td>0.199847</td>\n",
       "      <td>0.212292</td>\n",
       "      <td>0.079236</td>\n",
       "      <td>0.087799</td>\n",
       "    </tr>\n",
       "  </tbody>\n",
       "</table>\n",
       "<p>449252 rows × 6 columns</p>\n",
       "</div>"
      ],
      "text/plain": [
       "               0         1         2         3         4         5\n",
       "0       1.000000  0.000000  0.000000  0.000000  0.000000  0.000000\n",
       "1       1.000000  0.000000  0.000000  0.000000  0.000000  0.000000\n",
       "2       1.000000  0.000000  0.000000  0.000000  0.000000  0.000000\n",
       "3       1.000000  0.000000  0.000000  0.000000  0.000000  0.000000\n",
       "4       1.000000  0.000000  0.000000  0.000000  0.000000  0.000000\n",
       "...          ...       ...       ...       ...       ...       ...\n",
       "449247  0.211544  0.209282  0.199847  0.212292  0.079236  0.087799\n",
       "449248  0.211544  0.209282  0.199847  0.212292  0.079236  0.087799\n",
       "449249  0.211544  0.209282  0.199847  0.212292  0.079236  0.087799\n",
       "449250  0.211544  0.209282  0.199847  0.212292  0.079236  0.087799\n",
       "449251  0.211544  0.209282  0.199847  0.212292  0.079236  0.087799\n",
       "\n",
       "[449252 rows x 6 columns]"
      ]
     },
     "execution_count": 63,
     "metadata": {},
     "output_type": "execute_result"
    }
   ],
   "source": [
    "y_pred = pd.DataFrame(y_pred)\n",
    "y_pred"
   ]
  },
  {
   "cell_type": "code",
   "execution_count": 64,
   "id": "b41731ce",
   "metadata": {},
   "outputs": [
    {
     "data": {
      "text/plain": [
       "0         0\n",
       "1         0\n",
       "2         0\n",
       "3         0\n",
       "4         0\n",
       "         ..\n",
       "449247    3\n",
       "449248    3\n",
       "449249    3\n",
       "449250    3\n",
       "449251    3\n",
       "Name: max_class, Length: 449252, dtype: int64"
      ]
     },
     "execution_count": 64,
     "metadata": {},
     "output_type": "execute_result"
    }
   ],
   "source": [
    "max_class = y_pred.idxmax(axis=1)\n",
    "result_series = pd.Series(max_class, name='max_class')\n",
    "result_series"
   ]
  },
  {
   "cell_type": "code",
   "execution_count": 65,
   "id": "c6ab1355",
   "metadata": {},
   "outputs": [],
   "source": [
    "df_test['returnQuantity'] = result_series"
   ]
  },
  {
   "cell_type": "code",
   "execution_count": 66,
   "id": "8c8f901d",
   "metadata": {},
   "outputs": [
    {
     "data": {
      "text/html": [
       "<div>\n",
       "<style scoped>\n",
       "    .dataframe tbody tr th:only-of-type {\n",
       "        vertical-align: middle;\n",
       "    }\n",
       "\n",
       "    .dataframe tbody tr th {\n",
       "        vertical-align: top;\n",
       "    }\n",
       "\n",
       "    .dataframe thead th {\n",
       "        text-align: right;\n",
       "    }\n",
       "</style>\n",
       "<table border=\"1\" class=\"dataframe\">\n",
       "  <thead>\n",
       "    <tr style=\"text-align: right;\">\n",
       "      <th></th>\n",
       "      <th>Unnamed: 0</th>\n",
       "      <th>orderID</th>\n",
       "      <th>articleID</th>\n",
       "      <th>colorCode</th>\n",
       "      <th>sizeCode</th>\n",
       "      <th>productGroup</th>\n",
       "      <th>quantity</th>\n",
       "      <th>price</th>\n",
       "      <th>rrp</th>\n",
       "      <th>voucherID</th>\n",
       "      <th>voucherAmount</th>\n",
       "      <th>customerID</th>\n",
       "      <th>deviceID</th>\n",
       "      <th>paymentMethod</th>\n",
       "      <th>returnQuantity</th>\n",
       "    </tr>\n",
       "  </thead>\n",
       "  <tbody>\n",
       "    <tr>\n",
       "      <th>0</th>\n",
       "      <td>1</td>\n",
       "      <td>0</td>\n",
       "      <td>346</td>\n",
       "      <td>1972</td>\n",
       "      <td>16</td>\n",
       "      <td>3.0</td>\n",
       "      <td>1</td>\n",
       "      <td>10.00</td>\n",
       "      <td>29.99</td>\n",
       "      <td>0</td>\n",
       "      <td>0.0</td>\n",
       "      <td>9856</td>\n",
       "      <td>2</td>\n",
       "      <td>2</td>\n",
       "      <td>0</td>\n",
       "    </tr>\n",
       "    <tr>\n",
       "      <th>1</th>\n",
       "      <td>2</td>\n",
       "      <td>0</td>\n",
       "      <td>511</td>\n",
       "      <td>3854</td>\n",
       "      <td>16</td>\n",
       "      <td>3.0</td>\n",
       "      <td>1</td>\n",
       "      <td>20.00</td>\n",
       "      <td>39.99</td>\n",
       "      <td>0</td>\n",
       "      <td>0.0</td>\n",
       "      <td>9856</td>\n",
       "      <td>2</td>\n",
       "      <td>2</td>\n",
       "      <td>0</td>\n",
       "    </tr>\n",
       "    <tr>\n",
       "      <th>2</th>\n",
       "      <td>3</td>\n",
       "      <td>1</td>\n",
       "      <td>1828</td>\n",
       "      <td>2974</td>\n",
       "      <td>13</td>\n",
       "      <td>8.0</td>\n",
       "      <td>1</td>\n",
       "      <td>35.00</td>\n",
       "      <td>49.99</td>\n",
       "      <td>0</td>\n",
       "      <td>0.0</td>\n",
       "      <td>42225</td>\n",
       "      <td>4</td>\n",
       "      <td>2</td>\n",
       "      <td>0</td>\n",
       "    </tr>\n",
       "    <tr>\n",
       "      <th>3</th>\n",
       "      <td>4</td>\n",
       "      <td>1</td>\n",
       "      <td>1836</td>\n",
       "      <td>1992</td>\n",
       "      <td>13</td>\n",
       "      <td>8.0</td>\n",
       "      <td>1</td>\n",
       "      <td>49.99</td>\n",
       "      <td>49.99</td>\n",
       "      <td>0</td>\n",
       "      <td>0.0</td>\n",
       "      <td>42225</td>\n",
       "      <td>4</td>\n",
       "      <td>2</td>\n",
       "      <td>0</td>\n",
       "    </tr>\n",
       "    <tr>\n",
       "      <th>4</th>\n",
       "      <td>5</td>\n",
       "      <td>2</td>\n",
       "      <td>1779</td>\n",
       "      <td>1968</td>\n",
       "      <td>15</td>\n",
       "      <td>8.0</td>\n",
       "      <td>1</td>\n",
       "      <td>10.00</td>\n",
       "      <td>35.99</td>\n",
       "      <td>0</td>\n",
       "      <td>0.0</td>\n",
       "      <td>81418</td>\n",
       "      <td>2</td>\n",
       "      <td>6</td>\n",
       "      <td>0</td>\n",
       "    </tr>\n",
       "  </tbody>\n",
       "</table>\n",
       "</div>"
      ],
      "text/plain": [
       "   Unnamed: 0  orderID  articleID  colorCode  sizeCode  productGroup  \\\n",
       "0           1        0        346       1972        16           3.0   \n",
       "1           2        0        511       3854        16           3.0   \n",
       "2           3        1       1828       2974        13           8.0   \n",
       "3           4        1       1836       1992        13           8.0   \n",
       "4           5        2       1779       1968        15           8.0   \n",
       "\n",
       "   quantity  price    rrp  voucherID  voucherAmount  customerID  deviceID  \\\n",
       "0         1  10.00  29.99          0            0.0        9856         2   \n",
       "1         1  20.00  39.99          0            0.0        9856         2   \n",
       "2         1  35.00  49.99          0            0.0       42225         4   \n",
       "3         1  49.99  49.99          0            0.0       42225         4   \n",
       "4         1  10.00  35.99          0            0.0       81418         2   \n",
       "\n",
       "   paymentMethod  returnQuantity  \n",
       "0              2               0  \n",
       "1              2               0  \n",
       "2              2               0  \n",
       "3              2               0  \n",
       "4              6               0  "
      ]
     },
     "execution_count": 66,
     "metadata": {},
     "output_type": "execute_result"
    }
   ],
   "source": [
    "df_test.head()"
   ]
  },
  {
   "cell_type": "code",
   "execution_count": 67,
   "id": "3bc8ba34",
   "metadata": {},
   "outputs": [],
   "source": [
    "df_test.to_csv('Hw1_Kashitskii_Kukarkin.csv')"
   ]
  },
  {
   "cell_type": "code",
   "execution_count": null,
   "id": "0d9bb3b5",
   "metadata": {},
   "outputs": [],
   "source": []
  }
 ],
 "metadata": {
  "kernelspec": {
   "display_name": "Python 3 (ipykernel)",
   "language": "python",
   "name": "python3"
  },
  "language_info": {
   "codemirror_mode": {
    "name": "ipython",
    "version": 3
   },
   "file_extension": ".py",
   "mimetype": "text/x-python",
   "name": "python",
   "nbconvert_exporter": "python",
   "pygments_lexer": "ipython3",
   "version": "3.10.9"
  }
 },
 "nbformat": 4,
 "nbformat_minor": 5
}
